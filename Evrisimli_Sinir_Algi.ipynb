{
  "nbformat": 4,
  "nbformat_minor": 0,
  "metadata": {
    "colab": {
      "name": "Evrisimli Sinir Algi",
      "provenance": [],
      "collapsed_sections": []
    },
    "kernelspec": {
      "name": "python3",
      "display_name": "Python 3"
    }
  },
  "cells": [
    {
      "cell_type": "code",
      "metadata": {
        "id": "6HfIElKMbm2J",
        "colab_type": "code",
        "outputId": "01f3dbfb-3d57-4d65-e290-976f7be27c02",
        "colab": {
          "base_uri": "https://localhost:8080/",
          "height": 50
        }
      },
      "source": [
        "#GEREKEN PAKETLERIN YUKLENMESI \n",
        "\n",
        "\n",
        "import numpy as np\n",
        "import h5py\n",
        "import matplotlib.pyplot as plt\n",
        "\n",
        "%matplotlib inline\n",
        "plt.rcParams['figure.figsize'] = (5.0, 4.0) \n",
        "plt.rcParams['image.interpolation'] = 'nearest'\n",
        "plt.rcParams['image.cmap'] = 'gray' #siyah beyaz yaparsak algilamaz/ gray yaparsak 0dan 255e kadar renkleri farkli tonlardan ifade eder\n",
        "\n",
        "%load_ext autoreload\n",
        "%autoreload 2\n",
        "\n",
        "np.random.seed(1)"
      ],
      "execution_count": 0,
      "outputs": [
        {
          "output_type": "stream",
          "text": [
            "The autoreload extension is already loaded. To reload it, use:\n",
            "  %reload_ext autoreload\n"
          ],
          "name": "stdout"
        }
      ]
    },
    {
      "cell_type": "code",
      "metadata": {
        "id": "AtWzYJqnHRhD",
        "colab_type": "code",
        "colab": {}
      },
      "source": [
        "#Piksel Ekleme (Padding) Fonksiyonunun Tanımlanması\n",
        "\n",
        "def zero_pad(X, pad):\n",
        "  \n",
        "    \n",
        "    X_pad = np.pad(X, ((0,0), (pad, pad), (pad,pad), (0,0)), 'constant',  constant_values = 0) \n",
        "    \n",
        "    return X_pad"
      ],
      "execution_count": 0,
      "outputs": []
    },
    {
      "cell_type": "code",
      "metadata": {
        "id": "875V3tlhbwIn",
        "colab_type": "code",
        "outputId": "801b32b5-1c03-43d8-92ea-e5d95e4fb570",
        "colab": {
          "base_uri": "https://localhost:8080/",
          "height": 410
        }
      },
      "source": [
        "#Piksel ekleme sonucunu görselleştirme\n",
        "\n",
        "np.random.seed(1)\n",
        "x = np.random.randn(4, 3, 3, 2) \n",
        "x_pad = zero_pad(x, 2) \n",
        "\n",
        "\n",
        "print (\"x.shape =\", x.shape)\n",
        "print (\"x_pad.shape =\", x_pad.shape)\n",
        "print (\"x[1,1] =\", x[1,1])\n",
        "print (\"x_pad[1,1] =\", x_pad[1,1])\n",
        "\n",
        "fig, axarr = plt.subplots(1, 2) #plt.subplots(x,y); bu metod ise bize bir Figure nesnesi ve istediğimiz kadar Axes nesnesi döndürür\n",
        "axarr[0].set_title('x')\n",
        "axarr[0].imshow(x[0,:,:,0])\n",
        "axarr[1].set_title('x_pad')\n",
        "axarr[1].imshow(x_pad[0,:,:,0])"
      ],
      "execution_count": 0,
      "outputs": [
        {
          "output_type": "stream",
          "text": [
            "x.shape = (4, 3, 3, 2)\n",
            "x_pad.shape = (4, 7, 7, 2)\n",
            "x[1,1] = [[ 0.90085595 -0.68372786]\n",
            " [-0.12289023 -0.93576943]\n",
            " [-0.26788808  0.53035547]]\n",
            "x_pad[1,1] = [[0. 0.]\n",
            " [0. 0.]\n",
            " [0. 0.]\n",
            " [0. 0.]\n",
            " [0. 0.]\n",
            " [0. 0.]\n",
            " [0. 0.]]\n"
          ],
          "name": "stdout"
        },
        {
          "output_type": "execute_result",
          "data": {
            "text/plain": [
              "<matplotlib.image.AxesImage at 0x7f1bcca9a748>"
            ]
          },
          "metadata": {
            "tags": []
          },
          "execution_count": 38
        },
        {
          "output_type": "display_data",
          "data": {
            "image/png": "[encoded data removed]",
            "text/plain": [
              "<Figure size 360x288 with 2 Axes>"
            ]
          },
          "metadata": {
            "tags": []
          }
        }
      ]
    },
    {
      "cell_type": "code",
      "metadata": {
        "id": "7HHpf8VLJoa4",
        "colab_type": "code",
        "colab": {}
      },
      "source": [
        "#Bir evrişim işleminin tanımlanması!\n",
        "\n",
        "def conv_single_step(a_slice_prev, W,b):\n",
        "  \n",
        "  s = np.multiply(a_slice_prev, W)\n",
        "  \n",
        "  Z = np.sum(s) #??? s degeri zaten verilen degerleri carpiyor biz neyi toplayacagiz????\n",
        "  \n",
        "  Z = float(b)+Z\n",
        "  \n",
        "  return Z\n"
      ],
      "execution_count": 0,
      "outputs": []
    },
    {
      "cell_type": "code",
      "metadata": {
        "id": "TMwmMCTpJxe4",
        "colab_type": "code",
        "outputId": "c373b556-5b3c-4d17-d06e-03d640b2883b",
        "colab": {
          "base_uri": "https://localhost:8080/",
          "height": 34
        }
      },
      "source": [
        "np.random.seed(1)\n",
        "\n",
        "a_slice_prev = np.random.randn(4, 4, 3)\n",
        "\n",
        "W = np.random.randn(4, 4, 3)\n",
        "\n",
        "b = np.random.randn(1, 1, 1)\n",
        "\n",
        "Z = conv_single_step(a_slice_prev, W, b)\n",
        "print(\"Z =\", Z)\n",
        "\n"
      ],
      "execution_count": 0,
      "outputs": [
        {
          "output_type": "stream",
          "text": [
            "Z = -6.999089450680221\n"
          ],
          "name": "stdout"
        }
      ]
    },
    {
      "cell_type": "code",
      "metadata": {
        "id": "6LDKtVSsLn8-",
        "colab_type": "code",
        "colab": {}
      },
      "source": [
        "##İleri Yayılım Algoritması için fonksiyon tanımlayalım...\n",
        "\n",
        "def conv_forward(A_prev, W, b, hparameters):\n",
        "  \n",
        "    (m, n_H_prev, n_W_prev, n_C_prev) = A_prev.shape\n",
        "   \n",
        "    (f, f, n_C_prev, n_C) = W.shape\n",
        "    \n",
        "  \n",
        "    stride = hparameters['stride']\n",
        "    pad = hparameters['pad']\n",
        "  \n",
        "    n_H = int(((n_H_prev-f+2*pad)/stride)+1)\n",
        "    n_W = int(((n_W_prev-f+2*pad)/stride)+1)\n",
        "    \n",
        "    Z = np.zeros([m,n_H,n_W,n_C])\n",
        "    \n",
        " \n",
        "    A_prev_pad = zero_pad(A_prev, pad)\n",
        "    \n",
        "    for i in range(m):                         \n",
        "        a_prev_pad = A_prev_pad[i]              \n",
        "        for h in range(n_H):                   \n",
        "            for w in range(n_W):                \n",
        "                for c in range(n_C):            \n",
        "                    \n",
        "                    vert_start = h*stride\n",
        "                    vert_end = vert_start + f\n",
        "                    horiz_start = w*stride\n",
        "                    horiz_end = horiz_start + f\n",
        "                    \n",
        "                    \n",
        "                    a_slice_prev = a_prev_pad[vert_start:vert_end, horiz_start:horiz_end]\n",
        "                    \n",
        "                   \n",
        "                    Z[i, h, w, c] = conv_single_step(a_slice_prev, W[...,c], b[...,c])\n",
        "                                            \n",
        "   \n",
        "    assert(Z.shape == (m, n_H, n_W, n_C))\n",
        "    \n",
        "   \n",
        "    cache = (A_prev, W, b, hparameters)\n",
        "    \n",
        "    return Z, cache\n",
        "  \n"
      ],
      "execution_count": 0,
      "outputs": []
    },
    {
      "cell_type": "code",
      "metadata": {
        "id": "_skrC3wJLz0m",
        "colab_type": "code",
        "outputId": "94d53d2e-bcff-451b-baee-c7ef994cba6a",
        "colab": {
          "base_uri": "https://localhost:8080/",
          "height": 84
        }
      },
      "source": [
        "  np.random.seed(1)\n",
        "A_prev = np.random.randn(10, 4, 4, 3)\n",
        "W = np.random.randn(2, 2, 3, 8)\n",
        "b = np.random.randn(1, 1, 1, 8)\n",
        "\n",
        "hparameters = {\"pad\" :2,\n",
        "              \"stride\" :2}\n",
        "\n",
        "Z, cache_conv = conv_forward(A_prev, W, b, hparameters)\n",
        "\n",
        "print(\"Z'nin ortalama =\", np.mean(Z))\n",
        "print(\"Z[3, 2, 1] =\", Z[3, 2, 1])\n",
        "print(\"cache_conv[0][1][2][3] =\", cache_conv[0][1][2][3])\n"
      ],
      "execution_count": 0,
      "outputs": [
        {
          "output_type": "stream",
          "text": [
            "Z'nin ortalama = 0.048995203528855794\n",
            "Z[3, 2, 1] = [-0.61490741 -6.7439236  -2.55153897  1.75698377  3.56208902  0.53036437\n",
            "  5.18531798  8.75898442]\n",
            "cache_conv[0][1][2][3] = [-0.20075807  0.18656139  0.41005165]\n"
          ],
          "name": "stdout"
        }
      ]
    },
    {
      "cell_type": "code",
      "metadata": {
        "id": "V7u5p307L6UI",
        "colab_type": "code",
        "colab": {}
      },
      "source": [
        "def pool_forward(A_prev, hparameters,mode = \"max\"):\n",
        "  \n",
        "  (m, n_H_prev, n_W_prev, n_C_prev) = A_prev.shape\n",
        "  \n",
        "  f = hparameters[\"f\"]\n",
        "  stride = hparameters[\"stride\"]\n",
        "  \n",
        "  n_H = int(1 + (n_H_prev -f)/ stride)\n",
        "  n_W = int(1 + (n_W_prev -f)/ stride)\n",
        "  n_C = n_C_prev\n",
        "  \n",
        "  A = np.zeros((m, n_H, n_W, n_C))\n",
        "  \n",
        "  for i in range(m):\n",
        "    for h in range(n_H):\n",
        "      for w in range(n_W):\n",
        "        for c in range(n_C):\n",
        "          \n",
        "          vert_start = h*stride\n",
        "          vert_end = vert_start +f\n",
        "          horiz_start = w*stride\n",
        "          horiz_end = horiz_start +f\n",
        "          \n",
        "          a_prev_slice = A_prev[i, vert_start:vert_end, horiz_start:horiz_end, c]\n",
        "          \n",
        "          if mode == \"max\":\n",
        "            A[i,h, w, c] = np.max(a_prev_slice)\n",
        "          elif mode == \"average\":\n",
        "            A[i,h, w, c] = np.mean(a_prev_slice)\n",
        "            \n",
        "  cache = (A_prev, hparameters)\n",
        "  \n",
        "  assert(A.shape == (m, n_H, n_W, n_C))\n",
        "  \n",
        "  return A, cache\n",
        "  "
      ],
      "execution_count": 0,
      "outputs": []
    },
    {
      "cell_type": "code",
      "metadata": {
        "id": "KM98ZpOzL7fe",
        "colab_type": "code",
        "outputId": "95a106b2-2cda-4447-bbfd-4f5290ab4aa0",
        "colab": {
          "base_uri": "https://localhost:8080/",
          "height": 185
        }
      },
      "source": [
        "##Farklı ortaklama tipleri için sonuçları karşılaştıralım!\n",
        "\n",
        "np.random.seed(1)\n",
        "\n",
        "A_prev = np.random.randn(2, 4, 4, 3)\n",
        "hparameters = {\"stride\" : 2, \"f\" :3}\n",
        "\n",
        "A, cache = pool_forward(A_prev, hparameters)\n",
        "\n",
        "print(\"mod = max\")\n",
        "print(\"A= \", A)\n",
        "\n",
        "A, cache = pool_forward(A_prev, hparameters, mode = \"average\")\n",
        "\n",
        "print(\"mod = average\")\n",
        "print(\"A =\", A)"
      ],
      "execution_count": 0,
      "outputs": [
        {
          "output_type": "stream",
          "text": [
            "mod = max\n",
            "A=  [[[[1.74481176 0.86540763 1.13376944]]]\n",
            "\n",
            "\n",
            " [[[1.13162939 1.51981682 2.18557541]]]]\n",
            "mod = average\n",
            "A = [[[[ 0.02105773 -0.20328806 -0.40389855]]]\n",
            "\n",
            "\n",
            " [[[-0.22154621  0.51716526  0.48155844]]]]\n"
          ],
          "name": "stdout"
        }
      ]
    },
    {
      "cell_type": "code",
      "metadata": {
        "id": "NTjv7zt1L_Ye",
        "colab_type": "code",
        "colab": {}
      },
      "source": [
        "##Geriye Yayılım Algoritması için Fonksiyon Tanımlayalım!\n",
        "\n",
        "def conv_backward(dZ, cache):\n",
        "    \n",
        "    \n",
        "    \n",
        "    (A_prev, W, b, hparameters) = cache\n",
        "    \n",
        "   \n",
        "    (m, n_H_prev, n_W_prev, n_C_prev) = A_prev.shape\n",
        "    \n",
        " \n",
        "    (f, f, n_C_prev, n_C) = W.shape\n",
        "    \n",
        "   \n",
        "    stride = hparameters['stride']\n",
        "    pad = hparameters['pad']\n",
        "    \n",
        "\n",
        "    (m, n_H, n_W, n_C) = dZ.shape\n",
        "    \n",
        "    dA_prev = np.zeros((m, n_H_prev, n_W_prev, n_C_prev))                           \n",
        "    dW = np.zeros((f,f, n_C_prev, n_C))\n",
        "    db = np.zeros((1, 1, 1, n_C))\n",
        "\n",
        "   \n",
        "    A_prev_pad = zero_pad(A_prev, pad)\n",
        "    dA_prev_pad = zero_pad(dA_prev, pad)\n",
        "    \n",
        "    for i in range(m):                       \n",
        "        \n",
        "       \n",
        "        a_prev_pad = A_prev_pad[i]\n",
        "        da_prev_pad = dA_prev_pad[i]\n",
        "        \n",
        "        for h in range(n_H):                  \n",
        "            for w in range(n_W):               \n",
        "                for c in range(n_C):        \n",
        "                    \n",
        "                   \n",
        "                    vert_start = h\n",
        "                    vert_end = vert_start + f\n",
        "                    horiz_start = w\n",
        "                    horiz_end = horiz_start + f\n",
        "                    \n",
        "                   \n",
        "                    a_slice = a_prev_pad[vert_start:vert_end, horiz_start:horiz_end, :]\n",
        "\n",
        "                    \n",
        "                    da_prev_pad[vert_start:vert_end, horiz_start:horiz_end, :] += W[:,:,:,c] * dZ[i, h, w, c]\n",
        "                    dW[:,:,:,c] += a_slice * dZ[i, h, w, c]\n",
        "                    db[:,:,:,c] += dZ[i, h, w, c]\n",
        "                    \n",
        "        dA_prev[i, :, :, :] = da_prev_pad[pad:-pad, pad:-pad, :]\n",
        "    \n",
        "   \n",
        "    assert(dA_prev.shape == (m, n_H_prev, n_W_prev, n_C_prev))\n",
        "    \n",
        "    return dA_prev, dW, db"
      ],
      "execution_count": 0,
      "outputs": []
    },
    {
      "cell_type": "code",
      "metadata": {
        "id": "4Y8emXrEMD4i",
        "colab_type": "code",
        "outputId": "e275bbd8-803f-4d15-d447-a1a8caaa9d0b",
        "colab": {
          "base_uri": "https://localhost:8080/",
          "height": 67
        }
      },
      "source": [
        "np.random.seed(1)\n",
        "dA, dW, db = conv_backward(Z, cache_conv)\n",
        "\n",
        "print(\"dA ortalama =\", np.mean(dA))\n",
        "print(\"dW ortalama =\", np.mean(dW))\n",
        "print(\"db ortalama =\", np.mean(db))"
      ],
      "execution_count": 0,
      "outputs": [
        {
          "output_type": "stream",
          "text": [
            "dA ortalama = 0.6347704472654743\n",
            "dW ortalama = 1.5572657428497354\n",
            "db ortalama = 7.839232564616838\n"
          ],
          "name": "stdout"
        }
      ]
    },
    {
      "cell_type": "code",
      "metadata": {
        "id": "S6cbcnJ5MFb2",
        "colab_type": "code",
        "colab": {}
      },
      "source": [
        "def create_mask_from_window(x):\n",
        "  \n",
        "  mask = x == np.max(x)\n",
        "  \n",
        "  return mask"
      ],
      "execution_count": 0,
      "outputs": []
    },
    {
      "cell_type": "code",
      "metadata": {
        "id": "wznfdJI0MJ4g",
        "colab_type": "code",
        "outputId": "94b3f38b-949b-486e-d404-c2be931af53a",
        "colab": {
          "base_uri": "https://localhost:8080/",
          "height": 84
        }
      },
      "source": [
        "np.random.seed(1)\n",
        "x = np.random.randn(2,3)\n",
        "mask = create_mask_from_window(x)\n",
        "\n",
        "print('x =', x)\n",
        "print('maske =', mask)"
      ],
      "execution_count": 0,
      "outputs": [
        {
          "output_type": "stream",
          "text": [
            "x = [[ 1.62434536 -0.61175641 -0.52817175]\n",
            " [-1.07296862  0.86540763 -2.3015387 ]]\n",
            "maske = [[ True False False]\n",
            " [False False False]]\n"
          ],
          "name": "stdout"
        }
      ]
    },
    {
      "cell_type": "code",
      "metadata": {
        "id": "LfcN-oBtML-S",
        "colab_type": "code",
        "colab": {}
      },
      "source": [
        "def distribute_value(dz, shape):\n",
        "  \n",
        "   \n",
        "    (n_H, n_W) = shape\n",
        "    \n",
        "   \n",
        "    average = dz / (n_H * n_W)\n",
        "    \n",
        "   \n",
        "    a =  np.ones(shape) * average\n",
        "    \n",
        "    return a"
      ],
      "execution_count": 0,
      "outputs": []
    },
    {
      "cell_type": "code",
      "metadata": {
        "id": "Sk9IL5OeMNxm",
        "colab_type": "code",
        "outputId": "77842c09-e1b6-4454-a5df-0382ff409c00",
        "colab": {
          "base_uri": "https://localhost:8080/",
          "height": 50
        }
      },
      "source": [
        "a = distribute_value(2, (2,2))\n",
        "\n",
        "print('Dağıtılmış değer =', a)"
      ],
      "execution_count": 0,
      "outputs": [
        {
          "output_type": "stream",
          "text": [
            "Dağıtılmış değer = [[0.5 0.5]\n",
            " [0.5 0.5]]\n"
          ],
          "name": "stdout"
        }
      ]
    },
    {
      "cell_type": "code",
      "metadata": {
        "id": "EEUhXrSQMPcK",
        "colab_type": "code",
        "colab": {}
      },
      "source": [
        "def pool_backward(dA, cache, mode= 'max'):\n",
        "  \n",
        "\n",
        "    (A_prev, hparameters) = cache\n",
        "    \n",
        "  \n",
        "    stride = hparameters['stride']\n",
        "    f = hparameters['f']\n",
        "    \n",
        "   \n",
        "    m, n_H_prev, n_W_prev, n_C_prev = A_prev.shape\n",
        "    m, n_H, n_W, n_C = dA.shape\n",
        "    \n",
        "   \n",
        "    dA_prev = np.zeros(A_prev.shape)\n",
        " \n",
        "    for i in range(m):                      \n",
        "        \n",
        "       \n",
        "        a_prev = A_prev[i]\n",
        "        \n",
        "        for h in range(n_H):                   \n",
        "            for w in range(n_W):             \n",
        "                for c in range(n_C):           \n",
        "                    \n",
        "                    \n",
        "                    vert_start = h\n",
        "                    vert_end = vert_start + f\n",
        "                    horiz_start = w\n",
        "                    horiz_end = horiz_start + f\n",
        "                    \n",
        "                  \n",
        "                    if mode == \"max\":\n",
        "                        \n",
        "                 \n",
        "                        a_prev_slice = a_prev[vert_start:vert_end, horiz_start:horiz_end, c]\n",
        "            \n",
        "                        mask = create_mask_from_window(a_prev_slice)\n",
        "                   \n",
        "                        dA_prev[i, vert_start: vert_end, horiz_start: horiz_end, c] += np.multiply(mask, dA[i, h, w, c])\n",
        "                        \n",
        "                    elif mode == \"average\":\n",
        "                        \n",
        "                       \n",
        "                        da = dA[i,h,w,c]\n",
        "                      \n",
        "                        shape = (f,f)\n",
        "                        dA_prev[i, vert_start: vert_end, horiz_start: horiz_end, c] += distribute_value(da, shape)\n",
        "                            \n",
        " \n",
        "    assert(dA_prev.shape == A_prev.shape)\n",
        "    \n",
        "    return dA_prev"
      ],
      "execution_count": 0,
      "outputs": []
    },
    {
      "cell_type": "code",
      "metadata": {
        "id": "zFIq40sqMS_t",
        "colab_type": "code",
        "outputId": "81a429e8-2519-4134-cc31-6a5636eff5af",
        "colab": {
          "base_uri": "https://localhost:8080/",
          "height": 202
        }
      },
      "source": [
        "##Geriye yayılım ile güncellenen ağırlıklar ve diğer parametreler\n",
        "\n",
        "np.random.seed(1)\n",
        "\n",
        "A_prev = np.random.randn(5, 5, 3, 2)\n",
        "hparameters = {\"stride\": 1, \"f\":2}\n",
        "A, cache = pool_forward(A_prev, hparameters)\n",
        "dA = np.random.randn(5, 4, 2, 2)\n",
        "\n",
        "dA_prev = pool_backward(dA, cache, mode= \"max\")\n",
        "\n",
        "print(\"mod = max\")\n",
        "print('dA ortalaması =', np.max(dA))\n",
        "print('dA_prev[1,1]', dA_prev[1,1])\n",
        "print()\n",
        "\n",
        "dA_prev = pool_backward(dA, cache, mode= \"average\")\n",
        "\n",
        "print(\"mod = average\")\n",
        "print('dA ortalaması =', np.mean(dA))\n",
        "print('dA_prev[1,1]', dA_prev[1,1])\n"
      ],
      "execution_count": 0,
      "outputs": [
        {
          "output_type": "stream",
          "text": [
            "mod = max\n",
            "dA ortalaması = 2.528325706806398\n",
            "dA_prev[1,1] [[ 0.          0.        ]\n",
            " [ 5.05844394 -1.68282702]\n",
            " [ 0.          0.        ]]\n",
            "\n",
            "mod = average\n",
            "dA ortalaması = 0.14571390272918056\n",
            "dA_prev[1,1] [[ 0.08485462  0.2787552 ]\n",
            " [ 1.26461098 -0.25749373]\n",
            " [ 1.17975636 -0.53624893]]\n"
          ],
          "name": "stdout"
        }
      ]
    }
  ]
}